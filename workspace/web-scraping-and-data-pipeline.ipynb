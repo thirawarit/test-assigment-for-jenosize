{
 "cells": [
  {
   "cell_type": "markdown",
   "id": "25e329de",
   "metadata": {},
   "source": [
    "# Web Scraping adn Data Pipeline\n",
    "\n",
    "* ขั้นตอนและกระบวนการที่เขียนโค้ดขึ้นมานั้น มีความแตกต่างกันไปในแต่ละ website โครงสร้างการ scraping จะเปลี่ยนไปตามโครงสร้างนั้น โปรดศึกษาความเข้าในการ scraping ด้วยตนเองก่อนนำไปทดลอง\n",
    "* การดึงมาใช้งาน บางเว็บไซต์ <ins>**จำเป็น**</ins>ต้องขออนุญาติในการเก็บข้อมูล ควรทำการเก็บข้อมูลอย่างระมัดระวัง\n",
    "* ผู้จัดทำไม่อนุญาติให้นำไปใช้ในด้านพาณิชย์ทุกรูปแบบ จัดทำขึ้นเพื่อใช้ในการทดสอบความสามารถขอผู้จัดทำในการสมัครงานเท่านั้น\n",
    "* การใช้งาน Hugging Face Model บน cloud server หรือบนเครื่องที่ deploy เอาไว้ ขอ<ins>**สงวน**</ins>ช่องทางการใช้งานไว้\n"
   ]
  },
  {
   "cell_type": "markdown",
   "id": "55313118",
   "metadata": {},
   "source": [
    "## Dependencies"
   ]
  },
  {
   "cell_type": "code",
   "execution_count": 1,
   "id": "7ea3899d",
   "metadata": {},
   "outputs": [],
   "source": [
    "import requests\n",
    "import json\n",
    "import time\n",
    "from IPython.display import Markdown, display\n",
    "from pathlib import Path\n",
    "\n",
    "from bs4 import BeautifulSoup\n",
    "from selenium import webdriver\n",
    "from selenium.webdriver.common.by import By\n",
    "from selenium.webdriver.support.ui import WebDriverWait\n",
    "from selenium.webdriver.support import expected_conditions as EC\n",
    "\n",
    "from openai import OpenAI"
   ]
  },
  {
   "cell_type": "code",
   "execution_count": null,
   "id": "6c395cb6",
   "metadata": {},
   "outputs": [],
   "source": [
    "import os \n",
    "print(\"Where am I:\", os.getcwd())"
   ]
  },
  {
   "cell_type": "markdown",
   "id": "4351b609",
   "metadata": {},
   "source": [
    "## Functions"
   ]
  },
  {
   "cell_type": "code",
   "execution_count": 2,
   "id": "fd7f7252",
   "metadata": {},
   "outputs": [],
   "source": [
    "def show_prettify(just_object: BeautifulSoup):\n",
    "    # แปลง HTML ที่ได้จาก BeautifulSoup ให้อยู่ในรูป pretty (indent สวยงาม) แล้ว print ออกมา\n",
    "    print(just_object.prettify())\n",
    "\n",
    "\n",
    "def get_content_in_section(section_soup: BeautifulSoup) -> str:\n",
    "    # ดึงเนื้อหาภายใน div ตัวที่ 9 (index = 8) ของ section ที่สนใจ\n",
    "    just_object = section_soup.find_all('div')[8]\n",
    "\n",
    "    # แปลง tag <strong> ให้เป็น Markdown รูปแบบ **bold**\n",
    "    for tag in just_object.find_all('strong'):\n",
    "        tag.replace_with(f'**{tag.get_text()}**')\n",
    "\n",
    "    # แปลง list item (<li>) ให้ขึ้นบรรทัดใหม่ด้วย \\n\n",
    "    for li in just_object.find_all('li'):\n",
    "        li.replace_with(f'\\n{li.get_text()}')\n",
    "\n",
    "    # ใช้ตรวจสอบโครงสร้าง heading (เช่น h1, h2, h3) แล้วทำเป็น Markdown header\n",
    "    old_num_head = float('inf')      # เก็บลำดับ heading ล่าสุดที่เคยเจอ\n",
    "    num_sharp = 0                   # จำนวนเครื่องหมาย # ที่จะใช้ทำ Markdown header\n",
    "    content = ''                    # เก็บข้อความที่สร้างขึ้น\n",
    "\n",
    "    # วน loop ผ่าน element ภายใน div\n",
    "    for idx, obj in enumerate(just_object):\n",
    "        obj_name: str = obj.name\n",
    "        text: str = \"\".join(obj.strings)    # รวมข้อความภายใน tag\n",
    "        # ถ้า element เป็น heading (เช่น h1, h2, h3 ...)\n",
    "        if obj_name.startswith('h'):\n",
    "            # ถ้าเป็น heading ใหม่ที่ลึกกว่า ให้เพิ่มจำนวนเครื่องหมาย #\n",
    "            if num_sharp == 0 or int(obj_name[1]) > old_num_head:\n",
    "                old_num_head = int(obj_name[1])\n",
    "                num_sharp += 1\n",
    "            text = \"#\" * num_sharp + \" \" + text\n",
    "        content += text + '\\n'\n",
    "\n",
    "    # คืนค่าข้อความทั้งหมด (ตัดช่องว่าง/บรรทัดเกินออกด้วย strip)\n",
    "    return content.strip()\n",
    "\n",
    "def get_information(soup: BeautifulSoup):\n",
    "    # เข้าถึง tag <main> และ <section> ของหน้า HTML\n",
    "    main_soup = soup.find('main')\n",
    "    section_soup = main_soup.find('section')\n",
    "\n",
    "    # ดึงหัวข้อหลักจาก <h1>\n",
    "    topic = section_soup.find('h1').string\n",
    "\n",
    "    # ดึง tags จาก div ลำดับที่ 3 (index = 2)\n",
    "    tags = [tag.string for tag in section_soup.find_all('div')[2]]\n",
    "\n",
    "    # สร้าง dict เก็บข้อมูล: หัวข้อ, แท็ก, เนื้อหา\n",
    "    info = dict(\n",
    "        topic=topic,\n",
    "        tags=tags,\n",
    "        content=get_content_in_section(section_soup),\n",
    "    )\n",
    "    return info\n",
    "\n",
    "def get_url_from(link: str, pattern: str = \"a[href*='\\.\\./en/ideas/']\"):\n",
    "    # เปิดหน้าเว็บด้วย Selenium, ChromeDriver\n",
    "    # *** เปลี่ยน browser ตามที่คุณต้องการได้เลย แต่ผมแนะนำ Chrome ง่ายและสะดวก แต่อาจกิน resource เครื่องได้\n",
    "    driver = webdriver.Chrome()\n",
    "    driver.get(link)\n",
    "\n",
    "    # รอให้ elements โหลดเสร็จ (สูงสุด 10 วินาที)\n",
    "    driver.implicitly_wait(10)\n",
    "\n",
    "    # แปลงหน้าเว็บเป็น soup object\n",
    "    soup = BeautifulSoup(driver.page_source, \"html.parser\")\n",
    "    # เลือก element ตาม pattern แล้วดึง href ออกมา\n",
    "    links = [a['href'] for a in soup.select(pattern)]\n",
    "\n",
    "    # จำเป็นมาก - ปิด browser ไม่ browser จะเปิดค้างเอาไว้ เปลือง resource ของ local\n",
    "    driver.quit()\n",
    "    return links\n"
   ]
  },
  {
   "cell_type": "markdown",
   "id": "9d41e99e",
   "metadata": {},
   "source": [
    "## Scraping URLs with Selenium and BeautifulSoup"
   ]
  },
  {
   "cell_type": "code",
   "execution_count": 3,
   "id": "389cb7dd",
   "metadata": {},
   "outputs": [],
   "source": [
    "# กำหนด URL ตัวอย่างที่ต้องการดึงข้อมูล (หน้าเว็บจริงที่จะนำมา parse)\n",
    "example_url = 'https://www.jenosize.com/en/ideas/understand-people-and-consumer/getting-to-know-org-chart-and-structures'\n",
    "\n",
    "# ใช้ requests เพื่อดึงข้อมูล HTML ของหน้าเว็บจาก URL ข้างต้น\n",
    "url_content = requests.get(example_url)\n",
    "\n",
    "# แปลงข้อมูล HTML ที่ได้มาเป็น BeautifulSoup object\n",
    "# ทำให้เราสามารถเข้าถึง element ภายใน HTML ได้ง่าย (เช่นค้นหาแท็ก <div>, <h1> เป็นต้น)\n",
    "soup = BeautifulSoup(url_content.content)\n"
   ]
  },
  {
   "cell_type": "code",
   "execution_count": 4,
   "id": "bbef7f3c",
   "metadata": {},
   "outputs": [
    {
     "data": {
      "text/markdown": [
       "# Managing Organizations with Organization Chart & Structure\n",
       "\n",
       "To effectively manage an organization, it is essential to rely on clear planning and organizational structures to ensure smooth operations and achieve organizational goals. In this article, we will introduce you to a key tool that helps improve organizational management: the \"**Organization Chart & Structure.**\"\n",
       "\n",
       "## What is Organization Chart & Structure ?\n",
       "\n",
       "**The Organization Chart & Structure, also known as Org Chart, is a visual representation of an organization's management structure and hierarchy of positions**. It helps to understand the distribution of authority, responsibilities, and roles of each department and individual within the organization clearly. Essentially, the Organization Chart acts as a compass that guides employees to better understand their roles, know who they report to, and collaborate effectively with others.\n",
       "\n",
       "## Types Organization Chart & Structure\n",
       "\n",
       "Typically, organization charts come in various types, each suitable for different organizational structures and work formats. Here, we'll discuss three main types commonly used by many organizations:\n",
       "\n",
       "**Hierarchical Chart**: This is the traditional structure, displaying a top-down hierarchy. It's suitable for large organizations with clear departmental divisions and job roles.\n",
       "**Flat Chart**: This structure is horizontal, reducing hierarchical levels and emphasizing collaboration. It's suitable for small organizations with high flexibility.\n",
       "**Matrix Chart**: A blended structure where employees have both primary reporting lines and secondary lines reporting to project managers. It's suitable for organizations with cross-functional projects.\n",
       "\n",
       "## The Components of Organization Chart & Structure\n",
       "\n",
       "\n",
       "**Hierarchical Levels**: These represent the levels of authority within the organization, ranging from top executives down to operational staff.\n",
       "**Departments/Divisions**: Departments or divisions depict the segmentation of tasks and responsibilities according to different functions, such as Marketing, Accounting and Finance, Human Resources, etc.\n",
       "**Job Titles: Job titles** specify the positions and roles of each employee within the organization.\n",
       "**Lines of Authority**: These illustrate the relationships and reporting lines between superiors and subordinates, outlining the flow of authority and responsibility.\n",
       "\n",
       "However, designing a good organization chart & structure should consider important principles such as clarity, comprehensiveness, avoiding duplication of roles, and effective communication. Additionally, there should be regular reviews and adjustments to the organizational chart to align with changes and expansions in the organization's future.\n",
       "\n",
       "## The Benefits of Using Organization Chart & Structure?\n",
       "\n",
       "### Help to clarify the organizational structure\n",
       "\n",
       "**Employees understand their roles, responsibilities, and accountabilities**: Because the org chart clearly shows what tasks each department is responsible for, who they report to, and who they need to collaborate with.\n",
       "**Employees understand the hierarchy within the organization**: Knowing who is who, who heads which department, and who has decision-making authority.\n",
       "**Help employees work with purpose**: When they understand their roles, responsibilities, and accountabilities, they can work with a purpose aligned with the organization's goals.\n",
       "\n",
       "### Enhance organizational efficiency\n",
       "\n",
       "**Facilitate effective communication**: A clear organization structure promotes efficient communication flow because it eliminates unnecessary steps and bureaucracy. This enables more effective communication among individuals within the organization.\n",
       "**Promote coordination between departments or divisions**: By illustrating how departments or divisions relate to each other, the org chart helps teams coordinate smoothly. It shows how they are interconnected, facilitating efficient collaboration.\n",
       "**Accelerate goal achievement**: When communication and coordination are efficient, teamwork thrives. This leads to quicker goal achievement as tasks are completed more effectively and efficiently.\n",
       "\n",
       "### Facilitate organizational growth\n",
       "\n",
       "**Support organizational scalability**: Having an organization chart & structure serves as a tool to assess the current state of the organizational structure and determine if the organization can expand further. If any areas of the structure require improvement to better adapt to market conditions and business needs, adjustments can be made promptly.\n",
       "**Smoothen business expansion**: With an organization chart & structure defining roles and responsibilities, each employee knows their responsibilities, reducing redundancy in tasks. This enables business expansion to proceed smoothly and efficiently, with minimal obstacles.\n",
       "\n",
       "### Assist in HRM (Human Resource Management)\n",
       "HRM involves managing human resources, and designing an organization chart & structure aids HRM in the following ways:\n",
       "\n",
       "**Facilitate workforce planning**: The organization chart & structure provides HR with an overview of the organizational structure, allowing them to analyze workforce needs, plan recruitment, development, and retention strategies effectively.\n",
       "**Enhance performance evaluation**: A clear organization structure enables HR to set Key Performance Indicators (KPIs) and evaluate employee performance more accurately.\n",
       "**Manage compensation**: Having an org chart allows HR to establish appropriate salary structures and benefits packages tailored to each position within the organization.\n",
       "\n",
       "### Assist in HRD (Human Resource Development)\n",
       "While HRM involves managing services, HRD focuses on the \"development\" of human resources, and organization chart & structure are equally beneficial for this aspect of work. For instance:\n",
       "\n",
       "**Facilitate effective communication between HR and employees**: In a company with a flat organizational structure, HR can choose communication channels that best fit the organization structure, such as email or MS Teams.\n",
       "**Employees feel a sense of future with the organization**: An Organization Structure conducive to development provides employees with opportunities for learning, skill development, and career growth, fostering a more conducive environment for personal and professional development compared to organizations with unclear structures.\n",
       "\n",
       "Choosing the appropriate organization chart & structure depends on various factors such as the size of the organization, the nature of products or services, the business environment, and even the organization's strategy. Additionally, considerations should be given to interdepartmental coordination, power distribution in decision-making, and internal communication to ensure smooth operations and efficient goal attainment.\n",
       "\n",
       "To improve the organization, it's crucial to start with internal management. And **Jenosize** can assist you! We offer \"HappyWork,\" a human resource management system for HR and modern organizations. With features tailored to HRM and HRD tasks, HappyWork makes HR management easier than ever before. Try it for free today!"
      ],
      "text/plain": [
       "<IPython.core.display.Markdown object>"
      ]
     },
     "metadata": {},
     "output_type": "display_data"
    }
   ],
   "source": [
    "# เข้าถึงโครงสร้าง HTML หลักของหน้าเว็บ โดยเลือก <main>\n",
    "main_soup = soup.find('main')\n",
    "\n",
    "# ดึง section ภายใน <main> ที่ต้องการใช้งาน\n",
    "section_soup = main_soup.find('section')\n",
    "\n",
    "# ใช้ฟังก์ชัน get_content_in_section (ที่เราสร้างไว้ก่อนหน้า)\n",
    "# เพื่อแปลงข้อมูลภายใน section ให้เป็นข้อความในรูป Markdown\n",
    "content = get_content_in_section(section_soup)\n",
    "\n",
    "# แสดงผลข้อความที่ได้ในรูปแบบ Markdown บน Notebook\n",
    "display(Markdown(content))\n"
   ]
  },
  {
   "cell_type": "markdown",
   "id": "1d51e262",
   "metadata": {},
   "source": [
    "<h3>จุดสังเกตที่น่าสนใจ</h3>\n",
    "\n",
    "- ถ้าหากดเราเปิดดู raw_text จะเห็นว่า markdown ถูกกำกับด้วย**สัญลักษณ์ (symbol)** มากมาย เราใช้ประโยชน์จากสิ่งนั้นในการแบ่งเนื้อหาได้\n"
   ]
  },
  {
   "cell_type": "code",
   "execution_count": 5,
   "id": "fffc1d2d",
   "metadata": {},
   "outputs": [
    {
     "name": "stdout",
     "output_type": "stream",
     "text": [
      "# Managing Organizations with Organization Chart & Structure\n",
      "\n",
      "To effectively manage an organization, it is essential to rely on clear planning and organizational structures to ensure smooth operations and achieve organizational goals. In this article, we will introduce you to a key tool that helps improve organizational management: the \"**Organization Chart & Structure.**\"\n",
      "\n",
      "## What is Organization Chart & Structure ?\n",
      "\n",
      "**The Organization Chart & Structure, also known as Org Chart, is a visual representation of an organization's management structure and hierarchy of positions**. It helps to understand the distribution of authority, responsibilities, and roles of each department and individual within the organization clearly. Essentially, the Organization Chart acts as a compass that guides employees to better understand their roles, know who they report to, and collaborate effectively with others.\n",
      "\n",
      "## Types Organization Chart & Structure\n",
      "\n",
      "Typically, organization charts come in various ty ...\n"
     ]
    }
   ],
   "source": [
    "print(content[:1000] + ' ...')"
   ]
  },
  {
   "cell_type": "code",
   "execution_count": 13,
   "id": "2345fa95",
   "metadata": {},
   "outputs": [
    {
     "name": "stdout",
     "output_type": "stream",
     "text": [
      "/en/ideas/futurist/experiential-marketing-2030-trends\n",
      "/en/ideas/futurist/ai-customer-service-platform\n",
      "/en/ideas/futurist/behavioral-design-for-marketing\n",
      "/en/ideas/futurist/laude-4-sonnet-thai-prompts\n",
      "/en/ideas/futurist/cloud-computing-trends\n",
      "/en/ideas/futurist/ai-search-marketing-strategies\n",
      "/en/ideas/futurist/deepseek-ai-chatbot\n",
      "/en/ideas/futurist/hello-jenie-ai\n",
      "/en/ideas/futurist/japan-ai-earthquake-disaster-response\n",
      "/en/ideas/futurist/agentic-ai-guide-for-modern-business\n",
      "/en/ideas/futurist/digital-twin-business-model\n",
      "/en/ideas/futurist/business-model-canvas-2-0\n",
      "/en/ideas/utility-for-our-world/what-is-e-waste\n",
      "/en/ideas/utility-for-our-world/5-green-energies-for-businesses\n",
      "/en/ideas/utility-for-our-world/carbon-credits-business-opportunities\n",
      "/en/ideas/utility-for-our-world/fast-fashion-trend\n",
      "/en/ideas/utility-for-our-world/esg-green-technology\n",
      "/en/ideas/utility-for-our-world/improving-sustainability-in-business\n",
      "/en/ideas/utility-for-our-world/global-risks-business-preparedness\n",
      "/en/ideas/utility-for-our-world/green-intelligence-and-sustainability\n",
      "/en/ideas/utility-for-our-world/plant-based-food-business\n",
      "/en/ideas/utility-for-our-world/green-silver-blue-economy\n",
      "/en/ideas/utility-for-our-world/regenerative-business\n",
      "/en/ideas/utility-for-our-world/how-online-booking-helps-reduce-co2\n",
      "/en/ideas/real-time-marketing/brand-loyalty-pyramid\n",
      "/en/ideas/real-time-marketing/micro-moment-marketing\n",
      "/en/ideas/real-time-marketing/live-commerce-techniques-to-boost-sales\n",
      "/en/ideas/real-time-marketing/rebranding-strategy\n",
      "/en/ideas/real-time-marketing/event-booth-tips\n",
      "/en/ideas/real-time-marketing/mrbeast-video-marketing-tips\n",
      "/en/ideas/real-time-marketing/ai-algorithm-friendly-content\n",
      "/en/ideas/real-time-marketing/event-marketing-strategy\n",
      "/en/ideas/real-time-marketing/gamification-o2o-strategy\n",
      "/en/ideas/real-time-marketing/data-driven-campaign-tips\n",
      "/en/ideas/real-time-marketing/seo-vs-sem-vs-smm\n",
      "/en/ideas/real-time-marketing/storytelling-techniques\n",
      "/en/ideas/experience-the-new-world/is-hybrid-working-the-new-norm\n",
      "/en/ideas/experience-the-new-world/sensory-experience-event-strategy\n",
      "/en/ideas/experience-the-new-world/what-is-lipstick-effect\n",
      "/en/ideas/experience-the-new-world/time-management-techniques\n",
      "/en/ideas/experience-the-new-world/top-ten-megatrends-in-2025\n",
      "/en/ideas/experience-the-new-world/event-design-thinking\n",
      "/en/ideas/experience-the-new-world/oligopoly-market-in-thailand\n",
      "/en/ideas/experience-the-new-world/build-your-brand-without-marketplace\n",
      "/en/ideas/experience-the-new-world/top-startup-trends\n",
      "/en/ideas/experience-the-new-world/strategic-business-planning\n",
      "/en/ideas/experience-the-new-world/7-megatrends-in-2024\n",
      "/en/ideas/experience-the-new-world/okr-vs-kpi-difference\n"
     ]
    }
   ],
   "source": [
    "# เก็บลิงก์ย่อยทั้งหมดที่ดึงมาได้ (เริ่มต้นเป็น list ว่าง)\n",
    "meta_links = []\n",
    "\n",
    "# root ของเว็บไซต์ (ใช้ต่อเติมเป็น absolute URL)\n",
    "root_path = 'https://www.jenosize.com'\n",
    "\n",
    "# ดึงลิงก์ทั้งหมดจากหน้า \"ideas\" โดยใช้ฟังก์ชัน get_uri_from\n",
    "links = get_url_from(\"https://www.jenosize.com/en/ideas\")\n",
    "\n",
    "# วนลูปผ่านลิงก์ที่ได้มา\n",
    "for link in links:\n",
    "    # ต่อ URL แบบเต็ม (root + path) โดยตัด \"./\" ที่ขึ้นต้นออก (เลยใช้ link[2:])\n",
    "    travel_link = f\"{root_path}{link[2:]}\"\n",
    "    \n",
    "    # ดึง sub-links จากแต่ละหน้าหมวดหมู่ย่อย\n",
    "    # pattern ถูกกำหนดให้เจาะจงหา link ที่อยู่ใน path /en/ideas/{category}/\n",
    "    sub_links = get_url_from(travel_link, pattern=f\"a[href*='/en/ideas/{link.split('/')[-1]}/']\")\n",
    "    \n",
    "    # เพิ่ม sub-links เข้า meta_links โดยใช้ set() เพื่อลดการซ้ำ\n",
    "    meta_links.extend(set(sub_links))\n",
    "\n",
    "# แสดงผลลิงก์ทั้งหมดที่เก็บไว้ (พิมพ์ทีละบรรทัด)\n",
    "print(*meta_links, sep='\\n')\n"
   ]
  },
  {
   "cell_type": "markdown",
   "id": "a7eeb1c6",
   "metadata": {},
   "source": [
    "## Scraping Content with Selenium and BeautifulSoup"
   ]
  },
  {
   "cell_type": "code",
   "execution_count": 14,
   "id": "1ac4fb63",
   "metadata": {},
   "outputs": [
    {
     "name": "stdout",
     "output_type": "stream",
     "text": [
      "scraping https://www.jenosize.com/en/ideas/futurist/experiential-marketing-2030-trends ...\n"
     ]
    }
   ],
   "source": [
    "# กำหนด root ของเว็บไซต์\n",
    "root_path = 'https://www.jenosize.com'\n",
    "\n",
    "# เก็บผลลัพธ์การ scraping ทั้งหมด\n",
    "output = []\n",
    "\n",
    "# วนลูปผ่านทุกลิงก์ที่ได้มาจาก meta_links\n",
    "for link in meta_links:\n",
    "    # เปิด browser ด้วย Selenium\n",
    "    # *** อย่างที่บอกไปก่อนหน้านี้ เปลี่ยน browser ตามที่คุณต้องการได้เลย แต่ผมแนะนำ Chrome ง่ายและสะดวก แต่อาจกิน resource เครื่องได้\n",
    "    driver = webdriver.Chrome()\n",
    "    driver.get(root_path + link)\n",
    "\n",
    "    # รอจนกว่า element <section> จะปรากฏ (สูงสุด 60 วินาที)\n",
    "    # เพื่อให้แน่ใจว่าเนื้อหาหน้าเว็บโหลดเสร็จจริง ๆ\n",
    "    wait = WebDriverWait(driver, 60)\n",
    "    element = wait.until(EC.visibility_of_element_located((By.TAG_NAME, \"section\")))\n",
    "\n",
    "    # ดึง HTML ของหน้าที่โหลดแล้วมาแปลงเป็น BeautifulSoup\n",
    "    soup = BeautifulSoup(driver.page_source, \"html.parser\")\n",
    "\n",
    "    # ปิด browser เพื่อลดการใช้ resource\n",
    "    driver.close()\n",
    "\n",
    "    # log แสดงว่ากำลัง scrape URL ไหนอยู่\n",
    "    print(f\"scraping {root_path+link} ...\")\n",
    "\n",
    "    # ใช้ฟังก์ชัน get_information() ที่เราสร้างไว้\n",
    "    # เพื่อดึงข้อมูล topic, tags, content ออกมา\n",
    "    info = get_information(soup)\n",
    "\n",
    "    # เพิ่ม field 'website' เพื่อเก็บ URL ต้นทาง\n",
    "    info['website'] = root_path + link\n",
    "\n",
    "    # เก็บข้อมูลที่ได้ลงใน list output\n",
    "    output.append(info)\n",
    "\n",
    "    # หน่วงเวลา 15 วินาที (ป้องกัน block จาก server หรือ rate limit)\n",
    "    time.sleep(15)\n",
    "\n",
    "    break # ใช้สำหรับทดสอบ comment คำสั่งนี้เมื่อกำลังจะเริ่มทำงาน loop จริง\n"
   ]
  },
  {
   "cell_type": "code",
   "execution_count": 18,
   "id": "dfc976c8",
   "metadata": {},
   "outputs": [
    {
     "name": "stdout",
     "output_type": "stream",
     "text": [
      "len: 1\n",
      "example: [{'topic': '9 Experiential Marketing Trends to Watch in 2030', 'tags': ['Technology', 'Marketing', 'Business'], 'content': \"# 9 Experiential Marketing Trends 2030 Businesses Must Know\\n\\nCustomer experience is no longer just about providing good service. It has become the cornerstone of marketing strategy across all sectors—whether in SMEs, retail businesses, or government organizations. But have you ever wondered how experiential marketing trends in 2030 will evolve? With cutting-edge technology as a key driver and consumers expecting more complex, higher standards from brands, the landscape is set for a dramatic shift.\\n\\n\\n\\n# **9 Experiential Marketing Trends 2030: What Consumers Will Expect in the Future ?**\\n\\n## **1. Merging the Physical and Digital Worlds (Merged Reality)**\\nMerged Reality is set to eliminate the divide between “offline” and “online” experiences. Using Mixed Reality (MR) technology, consumers will engage with brands through a hybrid of physical and digital experiences. For example, retail stores might allow customers to try on products from home using MR glasses, or government service centers could offer simulations to teach citizens how to navigate bureaucratic processes. This trend creates new touchpoints that foster a deeper connection with brands—regardless of location.\\n\\n## **2. Immersive, Participatory Experiences**\\nExperiential marketing in 2030 will move beyond presentation and into full-on participation. Consumers won’t settle for passive advertising—they want to be “players” in the brand experience. Immersive technologies like 360° environments, multi-sensory interaction, and spatial audio will be key features in product demonstrations, events, and even government training. These experiences go beyond visuals to build meaningful, emotional connections with participants.\\n\\n## **3. AI and Automation for Personalized Communication**\\nAI and machine learning will become core brand ambassadors. Beyond answering questions or recommending products, these technologies will interpret customer needs, communicate naturally, and deliver hyper-relevant experiences. Think human-like chatbots, real-time virtual hosts at events, or auto-generated personalized content based on user context. Strategically implemented, AI will allow brands to offer care and precision that once seemed impossible.\\n\\n## **4. Hyper-Personalization Becomes the New Standard**\\nHyper-personalization isn’t just about addressing customers by name in emails. It means deeply understanding each individual’s life stage, emotions, and needs at every touchpoint. Brands will use data from multiple sources—click behavior, in-store movement, even health data—to create personalized experiences. For instance, sending a fitness promotion to someone who just joined a gym, or dynamically adjusting app UX to match a user’s style.\\n\\n## **5. Digital Trust as the Foundation of Experience**\\nBy 2030, trust will no longer be optional—it will be expected. Consumers will choose brands that prioritize transparency and data protection. For experiential marketing 2030, this means building on digital ethics: clear consent policies, data transparency, and secure systems. Brands that fail to deliver on this front, no matter how compelling their experiences, risk swift backlash from consumers and society.\\n\\n\\n\\n## **6. Loyalty Programs as Lifestyle Ecosystems**\\nLoyalty programs will evolve far beyond points and rewards. They will become ecosystems supporting long-term relationships, integrating with health services, travel, or social initiatives. Customers will enjoy benefits that align with their lifestyle—like converting online shopping points into online course discounts or charitable donations. In experiential marketing trends 2030, brand loyalty will be defined by how well brands support their customers' personal goals.\\n\\n## **7. Digital-First Experiences as the Core Strategy**\\nFuture products and services will be designed with digital experience at the core—not as a supplementary channel. Picture branchless banks offering fully integrated mobile apps or shopping malls with AR platforms enabling customers to browse from home. A digital-first mindset enables brands to scale efficiently, reduce costs, increase flexibility, and meet the needs of digitally native consumers.\\n\\n## **8. Omnichannel Will Become the Norm**\\nConsumers will expect seamless experiences across all platforms and physical spaces. They want brands to “remember” and “understand” every interaction—be it a website chat, an in-store purchase, or an event registration. A unified omnichannel approach ensures consistent messaging and functionality, increasing satisfaction and driving repeat purchases.\\n\\n## **9. Sustainability as a Core Principle in Tech Design**\\nTechnology that performs well must also respect the planet. Experiential marketing in 2030 will spotlight sustainable practices—monitoring the carbon footprint of digital campaigns, efficient use of cloud systems, energy-saving hardware choices, and low-waste events. Brands that demonstrate real environmental commitment and embed ESG principles into their experience design will earn greater consumer loyalty.\\n\\nExperiential marketing 2030 goes far beyond using digital tools—it’s about creating a “new world” where brands and consumers connect deeply through immersive technology, AI, trust, and sustainability. Businesses that want to thrive must begin laying this foundation today to keep pace with fast-changing consumer expectations.\\n\\nIf your organization is ready to transition into the future of customer experience and marketing, investing in a digital transformation service that understands both technology and business context is key. The experts at **Jenosize **are ready to help with end-to-end consulting and implementation. Contact us today through our website.\", 'website': 'https://www.jenosize.com/en/ideas/futurist/experiential-marketing-2030-trends'}]\n"
     ]
    }
   ],
   "source": [
    "print(f'len: {len(output)}')\n",
    "print(f'example: {output[:2]}')"
   ]
  },
  {
   "cell_type": "code",
   "execution_count": 19,
   "id": "9fd9d22c",
   "metadata": {},
   "outputs": [],
   "source": [
    "# กำหนด path ของไฟล์ output ที่จะเก็บข้อมูล JSON\n",
    "output_path = Path(\"../datasets/jenosize-article.json\")\n",
    "\n",
    "# เปิดไฟล์ในโหมดเขียน ('w') เพื่อเตรียมเขียนข้อมูลลงไป\n",
    "fp = output_path.open('w')\n",
    "\n",
    "# บันทึกข้อมูล output (list ของ dicts) ลงในไฟล์ JSON\n",
    "# ensure_ascii=False ทำให้เก็บตัวอักษรภาษาไทย/Unicode ได้ตรง ๆ\n",
    "json.dump(output, fp, ensure_ascii=False)\n"
   ]
  },
  {
   "cell_type": "markdown",
   "id": "9c23847b",
   "metadata": {},
   "source": [
    "### Analyzing and Generating Content with LLM\n",
    "หลังจากที่เราได้ทำการดึงข้อมูลและบันทึกบทความให้อยู่ในรูปแบบ JSON เรียบร้อยแล้ว  \n",
    "ขั้นตอนต่อไปคือการนำ Large Language Model (LLM) มาช่วยในการวิเคราะห์เนื้อหาที่ได้มา  \n",
    "พร้อมทั้งสร้างข้อความใหม่ที่ผ่านการประมวลผล และจัดเตรียมผลลัพธ์เพื่อบันทึกออกมาเป็นไฟล์ JSON ชุดใหม่"
   ]
  },
  {
   "cell_type": "code",
   "execution_count": 20,
   "id": "b64ff0a9",
   "metadata": {},
   "outputs": [
    {
     "data": {
      "text/plain": [
       "{'topic': '9 Experiential Marketing Trends to Watch in 2030',\n",
       " 'tags': ['Technology', 'Marketing', 'Business'],\n",
       " 'content': \"# 9 Experiential Marketing Trends 2030 Businesses Must Know\\n\\nCustomer experience is no longer just about providing good service. It has become the cornerstone of marketing strategy across all sectors—whether in SMEs, retail businesses, or government organizations. But have you ever wondered how experiential marketing trends in 2030 will evolve? With cutting-edge technology as a key driver and consumers expecting more complex, higher standards from brands, the landscape is set for a dramatic shift.\\n\\n\\n\\n# **9 Experiential Marketing Trends 2030: What Consumers Will Expect in the Future ?**\\n\\n## **1. Merging the Physical and Digital Worlds (Merged Reality)**\\nMerged Reality is set to eliminate the divide between “offline” and “online” experiences. Using Mixed Reality (MR) technology, consumers will engage with brands through a hybrid of physical and digital experiences. For example, retail stores might allow customers to try on products from home using MR glasses, or government service centers could offer simulations to teach citizens how to navigate bureaucratic processes. This trend creates new touchpoints that foster a deeper connection with brands—regardless of location.\\n\\n## **2. Immersive, Participatory Experiences**\\nExperiential marketing in 2030 will move beyond presentation and into full-on participation. Consumers won’t settle for passive advertising—they want to be “players” in the brand experience. Immersive technologies like 360° environments, multi-sensory interaction, and spatial audio will be key features in product demonstrations, events, and even government training. These experiences go beyond visuals to build meaningful, emotional connections with participants.\\n\\n## **3. AI and Automation for Personalized Communication**\\nAI and machine learning will become core brand ambassadors. Beyond answering questions or recommending products, these technologies will interpret customer needs, communicate naturally, and deliver hyper-relevant experiences. Think human-like chatbots, real-time virtual hosts at events, or auto-generated personalized content based on user context. Strategically implemented, AI will allow brands to offer care and precision that once seemed impossible.\\n\\n## **4. Hyper-Personalization Becomes the New Standard**\\nHyper-personalization isn’t just about addressing customers by name in emails. It means deeply understanding each individual’s life stage, emotions, and needs at every touchpoint. Brands will use data from multiple sources—click behavior, in-store movement, even health data—to create personalized experiences. For instance, sending a fitness promotion to someone who just joined a gym, or dynamically adjusting app UX to match a user’s style.\\n\\n## **5. Digital Trust as the Foundation of Experience**\\nBy 2030, trust will no longer be optional—it will be expected. Consumers will choose brands that prioritize transparency and data protection. For experiential marketing 2030, this means building on digital ethics: clear consent policies, data transparency, and secure systems. Brands that fail to deliver on this front, no matter how compelling their experiences, risk swift backlash from consumers and society.\\n\\n\\n\\n## **6. Loyalty Programs as Lifestyle Ecosystems**\\nLoyalty programs will evolve far beyond points and rewards. They will become ecosystems supporting long-term relationships, integrating with health services, travel, or social initiatives. Customers will enjoy benefits that align with their lifestyle—like converting online shopping points into online course discounts or charitable donations. In experiential marketing trends 2030, brand loyalty will be defined by how well brands support their customers' personal goals.\\n\\n## **7. Digital-First Experiences as the Core Strategy**\\nFuture products and services will be designed with digital experience at the core—not as a supplementary channel. Picture branchless banks offering fully integrated mobile apps or shopping malls with AR platforms enabling customers to browse from home. A digital-first mindset enables brands to scale efficiently, reduce costs, increase flexibility, and meet the needs of digitally native consumers.\\n\\n## **8. Omnichannel Will Become the Norm**\\nConsumers will expect seamless experiences across all platforms and physical spaces. They want brands to “remember” and “understand” every interaction—be it a website chat, an in-store purchase, or an event registration. A unified omnichannel approach ensures consistent messaging and functionality, increasing satisfaction and driving repeat purchases.\\n\\n## **9. Sustainability as a Core Principle in Tech Design**\\nTechnology that performs well must also respect the planet. Experiential marketing in 2030 will spotlight sustainable practices—monitoring the carbon footprint of digital campaigns, efficient use of cloud systems, energy-saving hardware choices, and low-waste events. Brands that demonstrate real environmental commitment and embed ESG principles into their experience design will earn greater consumer loyalty.\\n\\nExperiential marketing 2030 goes far beyond using digital tools—it’s about creating a “new world” where brands and consumers connect deeply through immersive technology, AI, trust, and sustainability. Businesses that want to thrive must begin laying this foundation today to keep pace with fast-changing consumer expectations.\\n\\nIf your organization is ready to transition into the future of customer experience and marketing, investing in a digital transformation service that understands both technology and business context is key. The experts at **Jenosize **are ready to help with end-to-end consulting and implementation. Contact us today through our website.\",\n",
       " 'website': 'https://www.jenosize.com/en/ideas/futurist/experiential-marketing-2030-trends'}"
      ]
     },
     "execution_count": 20,
     "metadata": {},
     "output_type": "execute_result"
    }
   ],
   "source": [
    "jenosize_fp = Path('../datasets/jenosize-article.json').open('r')\n",
    "\n",
    "jenosize_contents = json.load(jenosize_fp)\n",
    "jenosize_contents[0]"
   ]
  },
  {
   "cell_type": "code",
   "execution_count": null,
   "id": "ab992ed1",
   "metadata": {},
   "outputs": [],
   "source": [
    "# ตั้งค่า API key สำหรับเชื่อมต่อกับเซิร์ฟเวอร์ LLM (ในที่นี้ใช้ค่า placeholder \"EMPTY\")\n",
    "openai_api_key = \"EMPTY\"\n",
    "\n",
    "# ตั้งค่า base URL ของ vLLM API server ที่เราจะเรียกใช้\n",
    "openai_api_base = \"http://xx.xxx.xxx.xx/hf-llm/v1\"\n",
    "\n",
    "# สร้าง client สำหรับเชื่อมต่อ LLM API\n",
    "# client นี้จะใช้ส่ง request เพื่อทำการวิเคราะห์หรือสร้างข้อความจากโมเดล\n",
    "client = OpenAI(\n",
    "    api_key=openai_api_key,\n",
    "    base_url=openai_api_base,\n",
    ")\n"
   ]
  },
  {
   "cell_type": "code",
   "execution_count": null,
   "id": "9eb9be8d",
   "metadata": {},
   "outputs": [],
   "source": [
    "# กำหนด template สำหรับส่งให้ LLM\n",
    "# - ระบุว่าผลลัพธ์ต้องเป็น string ล้อมด้วย double quotes\n",
    "# - วิเคราะห์บทความที่ให้มา\n",
    "# - ห้ามมี reasoning, explanation, markdown หรือ backticks\n",
    "# - ต้องคืนค่า Python dict ที่มี keys ตามที่กำหนด: \"topic_category\", \"industry\", \"target_audience\", \"seo_keywords\"\n",
    "template = \\\n",
    "\"\"\"\n",
    "* Output must be a string only around with double quote only.\n",
    "* Analyse the given article.\n",
    "* No reasoning, no explanation, no markdown, no backticks.\n",
    "* Return a Python dict with these exact keys only: \"topic_category\", \"industry\", \"target_audience\", \"seo_keywords\".\n",
    "assistant: \n",
    "{{ \n",
    "    'topic_category': ['technology', 'fashion', 'finance', 'health'],\n",
    "    'target_audience': ['Gen Z consumers', 'business executives', 'AI Engineer'],\n",
    "    'industry': ['banking', 'retail'],\n",
    "    'seo_keywords': ['AI trends in education', 'best travel apps 2025'],\n",
    "}}\n",
    "\n",
    "<|RAW_TEXT|>\n",
    "topic: {topic}\n",
    "tag: {tags}\n",
    "content: {content}\n",
    "<|/RAW_TEXT|>\n",
    "\n",
    "\"\"\"\n",
    "\n",
    "# วน loop ผ่านแต่ละบทความใน jenosize_contents\n",
    "for idx, content in enumerate(jenosize_contents):\n",
    "    \n",
    "    # ส่ง request ไปยัง LLM ผ่าน client.chat.completions.create\n",
    "    # - model: โมเดลที่จะใช้ (ตัวอย่างเช่น google/gemma-3-12b-it)\n",
    "    # - messages: conversation format ของ LLM (system + user)\n",
    "    # - user content: template ที่ format ด้วยข้อมูลของบทความ\n",
    "    # - max_tokens: จำนวน token สูงสุดที่ตอบกลับ\n",
    "    # - temperature: ความสุ่มของการตอบ (0.05 ≈ deterministic)\n",
    "    chat_response = client.chat.completions.create(\n",
    "        model=\"google/gemma-3-12b-it\",\n",
    "        messages=[\n",
    "            {\"role\": \"system\", \"content\": \"You are a helpful assistant.\"},\n",
    "            {\"role\": \"user\", \"content\": template.format(**content)},\n",
    "        ],\n",
    "        max_tokens=20000,\n",
    "        temperature=0.05\n",
    "    )\n",
    "\n",
    "    # แสดงผลลัพธ์จาก LLM\n",
    "    # eval() ใช้แปลง string dict ที่ LLM คืนค่าเป็น Python dict จริง\n",
    "    print(\"Chat response:\", eval(chat_response.choices[0].message.content), sep='\\n')\n",
    "\n",
    "    # อัปเดตข้อมูลบทความใน jenosize_contents ด้วยผลลัพธ์จาก LLM\n",
    "    jenosize_contents[idx].update(eval(chat_response.choices[0].message.content))\n",
    "    \n",
    "    break  # ใช้สำหรับทดสอบ comment คำสั่งนี้เมื่อกำลังจะเริ่มทำงาน loop จริง"
   ]
  },
  {
   "cell_type": "code",
   "execution_count": null,
   "id": "68a8fa6e",
   "metadata": {},
   "outputs": [],
   "source": [
    "# กำหนด path ของไฟล์ output ที่จะเก็บข้อมูล JSON ใหม่\n",
    "# ในที่นี้เป็นไฟล์ที่มีผลลัพธ์จากการวิเคราะห์ด้วย LLM\n",
    "\n",
    "output_path = Path(\"../datasets/jenosize-article-mockup.json\")\n",
    "\n",
    "fp = output_path.open('w')\n",
    "\n",
    "json.dump(jenosize_contents, fp, ensure_ascii=False)\n"
   ]
  }
 ],
 "metadata": {
  "kernelspec": {
   "display_name": ".venv",
   "language": "python",
   "name": "python3"
  },
  "language_info": {
   "codemirror_mode": {
    "name": "ipython",
    "version": 3
   },
   "file_extension": ".py",
   "mimetype": "text/x-python",
   "name": "python",
   "nbconvert_exporter": "python",
   "pygments_lexer": "ipython3",
   "version": "3.10.18"
  }
 },
 "nbformat": 4,
 "nbformat_minor": 5
}
